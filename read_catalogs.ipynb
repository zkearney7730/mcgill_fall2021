{
 "cells": [
  {
   "cell_type": "code",
   "execution_count": 184,
   "metadata": {},
   "outputs": [],
   "source": [
    "import numpy as np\n",
    "import pandas as pd\n",
    "from astropy.io import ascii\n",
    "import pandas as pd \n",
    "from selection_module import select_clusters\n",
    "from astropy.coordinates import SkyCoord\n",
    "from astropy import units as u\n",
    "import matplotlib.pyplot as plt"
   ]
  },
  {
   "cell_type": "code",
   "execution_count": 57,
   "metadata": {},
   "outputs": [],
   "source": [
    "#read in Adam Muzzin's catalogs\n",
    "cdfs_cat = ascii.read('CDFS_ultimate_clean_highz_clu.cat').to_pandas()\n",
    "elais_cat = ascii.read('ELAIS-S1_ultimate_clean_highz_clu.cat').to_pandas()\n",
    "xmm_cat= ascii.read('XMM-LSS_ultimate_highz_clu.cat').to_pandas()\n",
    "\n",
    "#read in BCGs in the perspective survey sky area\n",
    "cdfs_bcg = pd.read_fwf('CDFS_bcg_tracy.lst') #there is something wrong with this file - think it is first generation catalogs.\n",
    "elais_bcg = pd.read_fwf('ELAIS-S1_bcg_tracy.lst')\n",
    "xmm_bcg = pd.read_fwf('XMM-LSS_bcg_tracy.lst')\n"
   ]
  },
  {
   "cell_type": "markdown",
   "metadata": {},
   "source": [
    "### Do catalog cuts"
   ]
  },
  {
   "cell_type": "code",
   "execution_count": 87,
   "metadata": {},
   "outputs": [],
   "source": [
    "####** want this as a selection module, not working **####\n",
    "\n",
    "def select_clusters(catalog, flux_label, Ngal_label=None):\n",
    "    #assumes the catalog is a pandas df \n",
    "\n",
    "    final_cut = catalog[catalog[flux_label] > 4 ]\n",
    "    \n",
    "    if Ngal_label is not None:\n",
    "        final_cut = final_cut[final_cut[Ngal_label] > 12]\n",
    "\n",
    "    return final_cut"
   ]
  },
  {
   "cell_type": "code",
   "execution_count": 88,
   "metadata": {},
   "outputs": [],
   "source": [
    "#do a cut for all catalogs for 4 on flux and 12 on richness\n",
    "\n",
    "cut_cdfs_cat = select_clusters(cdfs_cat,'Flux','Ngal')\n",
    "cut_elais_cat = select_clusters(elais_cat,'Flux','Ngal')\n",
    "cut_xmm_cat = select_clusters(xmm_cat,'Flux','Ngal')\n",
    "\n",
    "cut_cdfs_bcg = select_clusters(cdfs_bcg,'flux')\n",
    "cut_elais_bcg = select_clusters(elais_bcg,'flux')\n",
    "cut_xmm_bcg = select_clusters(xmm_bcg,'flux')\n"
   ]
  },
  {
   "cell_type": "markdown",
   "metadata": {},
   "source": [
    "### Catalog Matching"
   ]
  },
  {
   "cell_type": "code",
   "execution_count": 138,
   "metadata": {},
   "outputs": [],
   "source": [
    "#%#matching function for all catalogs\n",
    "#%#match catalog method\n",
    "\n",
    "def match(cat1, ra1_label, dec1_label,cat2, ra2_label, dec2_label):\n",
    "    '''\n",
    "    Want the cat1 to be the smaller one that is being matched to cat2\n",
    "    Returns the indices in cat2 that are the closest matches\n",
    "    \n",
    "    '''\n",
    "    small_cat = SkyCoord(cat1[ra1_label]*u.deg, cat1[dec1_label]*u.deg)\n",
    "    large_cat = SkyCoord(cat2[ra2_label]*u.deg, cat2[dec2_label]*u.deg)\n",
    "    \n",
    "    idx, d2d, d3d = small_cat.match_to_catalog_sky(large_cat)\n",
    "    \n",
    "    return idx, d2d, d3d\n",
    "    \n",
    "    \n",
    "def limit(idx,d2d,max_r):\n",
    "    '''\n",
    "    Using the indices matching the points, set a limit to the radius\n",
    "    \n",
    "    '''\n",
    "    max_r = max_r *u.arcsec \n",
    "    idx[d2d<max_r]\n",
    "    \n",
    "    return idx\n",
    "    "
   ]
  },
  {
   "cell_type": "code",
   "execution_count": 176,
   "metadata": {},
   "outputs": [],
   "source": [
    "#%#matching function search around method\n",
    "\n",
    "def search_around(cat1, ra1_label, dec1_label,cat2, ra2_label, dec2_label):\n",
    "    \n",
    "    '''\n",
    "    Searches around the positions, need to check which is which\n",
    "    cat1 will be the smaller one \n",
    "    idxl is the index in the larger catalog (cat2) \n",
    "    idxs is the index in the smaller catalog (cat1)\n",
    "    '''\n",
    "    \n",
    "    small_cat = SkyCoord(ra=cat1[ra1_label]*u.deg, dec=cat1[dec1_label]*u.deg)  \n",
    "    large_cat = SkyCoord(ra=cat2[ra2_label]*u.deg, dec=cat2[dec2_label]*u.deg)  \n",
    "    \n",
    "    idxl, idxs, d2d, d3d = small_cat.search_around_sky(large_cat, 100*u.arcsec)\n",
    "\n",
    "    return idxl, idxs, d2d, d3d\n"
   ]
  },
  {
   "cell_type": "code",
   "execution_count": 251,
   "metadata": {},
   "outputs": [],
   "source": [
    "class matching(object):\n",
    "    \n",
    "    \n",
    "    def __init__(self,cat1, ra1_label, dec1_label,cat2, ra2_label, dec2_label):\n",
    "        self.cat1 = cat1\n",
    "        self.ra1 = np.array(cat1[ra1_label])\n",
    "        self.dec1 = np.array(cat1[dec1_label])\n",
    "        \n",
    "        \n",
    "        self.cat2 = cat2\n",
    "        self.ra2 = np.array(cat2[ra2_label])\n",
    "        self.dec2 = np.array(cat2[dec2_label])\n",
    "        \n",
    "        self.small_cat = SkyCoord(self.ra1*u.deg, self.dec1*u.deg)\n",
    "        self.large_cat = SkyCoord(self.ra2*u.deg, self.dec2*u.deg)\n",
    "\n",
    "        \n",
    "    def match_to_sky(self):\n",
    "        \n",
    "        idx, d2d, d3d = self.small_cat.match_to_catalog_sky(self.large_cat)\n",
    "        \n",
    "        return idx, d2d, d3d\n",
    "        \n",
    "        \n",
    "    def limit(self,max_r):\n",
    "        max_r = max_r *u.arcsec \n",
    "        idx = match_to_sky.idx[match_to_sky.d2d<max_r]\n",
    "        \n",
    "        return idx\n",
    "        \n",
    "    def search_around(self,max_r):\n",
    "        \n",
    "        self.idxl, self.idxs, self.d2d, self.d3d = self.small_cat.search_around_sky(self.large_cat, max_r*u.arcsec)\n",
    "        \n",
    "        return self.idxl, self.idxs, self.d2d, self.d3d\n",
    "        \n",
    "    def delta(self):\n",
    "        \n",
    "        delta_ra =[]\n",
    "        delta_dec =[]\n",
    "        \n",
    "        for i,j in zip(self.idxl,self.idxs):\n",
    "            delta_ra.append(self.ra2[i]*u.arcsec-self.ra1[j]*u.arcsec)\n",
    "            delta_dec.append(self.dec2[i]*u.arcsec-self.dec1[j]*u.arcsec)\n",
    "            \n",
    "        ra = [i.value for i in delta_ra]\n",
    "        dec = [i.value for i in delta_dec]\n",
    "        \n",
    "        return ra, dec \n",
    "        "
   ]
  },
  {
   "cell_type": "markdown",
   "metadata": {},
   "source": [
    "### Explore the CDFS catalogs \n",
    "#### (For all remaining names, it is implied that the cut catalogs were used)"
   ]
  },
  {
   "cell_type": "code",
   "execution_count": 160,
   "metadata": {},
   "outputs": [],
   "source": [
    "#%# Testing \n",
    "\n",
    "#location of bcg from Muzzin catalogs, might be incorrect\n",
    "ra_bcg_cat = np.array(cut_cdfs_cat['rabcg'][:])\n",
    "dec_bcg_cat = np.array(cut_cdfs_cat['decbcg'][:])\n",
    "\n",
    "#color peak of cluster, might not land on galaxy \n",
    "ra_clu = np.array(cut_cdfs_cat['raclu'][:])\n",
    "dec_clu = np.array(cut_cdfs_cat['decclu'][:])\n",
    "\n",
    "#bcg from Tracy's catalog\n",
    "ra_bcg = np.array(cut_cdfs_bcg['BCG_RA'][:])\n",
    "dec_bcg = np.array(cut_cdfs_bcg['BCG_Dec'][:])\n"
   ]
  },
  {
   "cell_type": "code",
   "execution_count": 270,
   "metadata": {},
   "outputs": [
    {
     "data": {
      "image/png": "[encoded data removed]",
      "text/plain": [
       "<Figure size 432x288 with 1 Axes>"
      ]
     },
     "metadata": {
      "needs_background": "light"
     },
     "output_type": "display_data"
    },
    {
     "data": {
      "image/png": "[encoded data removed]",
      "text/plain": [
       "<Figure size 432x288 with 1 Axes>"
      ]
     },
     "metadata": {
      "needs_background": "light"
     },
     "output_type": "display_data"
    }
   ],
   "source": [
    "match = matching(cut_cdfs_bcg,'BCG_RA','BCG_Dec',cut_cdfs_cat,'rabcg','decbcg')\n",
    "\n",
    "match.search_around(100)\n",
    "delta_ra, delta_dec = match.delta()\n",
    "\n",
    "plt.hist(delta_ra,bins=50)\n",
    "plt.yscale('log',basey=10)\n",
    "#plt.xlim(-0.0025,0.0025)\n",
    "plt.show()\n",
    "\n",
    "plt.hist(delta_dec,bins=50)\n",
    "plt.yscale('log',basey=10)"
   ]
  },
  {
   "cell_type": "code",
   "execution_count": null,
   "metadata": {},
   "outputs": [],
   "source": []
  },
  {
   "cell_type": "code",
   "execution_count": null,
   "metadata": {},
   "outputs": [],
   "source": []
  },
  {
   "cell_type": "code",
   "execution_count": 179,
   "metadata": {},
   "outputs": [],
   "source": [
    "#%# Do matching \n",
    "\n",
    "idx, d2d, d3d = match(cut_cdfs_bcg,'BCG_RA','BCG_Dec',cut_cdfs_cat,'rabcg','decbcg')\n",
    "idx_cut = limit(idx,d2d,100)\n",
    "\n",
    "idxl,idxs, d2d, d3d = search_around(cut_cdfs_bcg,'BCG_RA','BCG_Dec',cut_cdfs_cat,'rabcg','decbcg')"
   ]
  },
  {
   "cell_type": "code",
   "execution_count": 180,
   "metadata": {},
   "outputs": [
    {
     "name": "stdout",
     "output_type": "stream",
     "text": [
      "[  0   6  11  11  18  27  30  31  32  37  37  37  38  43  45  47  48  49\n",
      "  53  55  57  62  62  63  69  72  76  78  80  82  82  83  84  85  86  91\n",
      "  91  93  99 101 101 104 110 115 115 118 118 122 123 131 131 131 136 140\n",
      " 142 144 145 146 148 150 150 150 150 153 154 154 154 155 158 159 166 166\n",
      " 166 168 168 171]\n",
      "[  3   3   6   9  11  27  31  32  37  42  43  45  47  48  49  50  52  56\n",
      "  57  58  58  60  62  62  63  65  66  67  69  72  78  81  82  84  85  85\n",
      "  87  89  91 109 117 118 123 124 125 126 127 128 130 131 137 139 143 144\n",
      " 148 148 150 154 155 157 158 164 171]\n"
     ]
    }
   ],
   "source": [
    "#seem similar but not exact \n",
    "\n",
    "print(np.sort(idx))\n",
    "print(idxl)\n",
    "\n",
    "#look at offset distributions "
   ]
  },
  {
   "cell_type": "markdown",
   "metadata": {},
   "source": [
    "### Explore the ELAIS catalogs"
   ]
  },
  {
   "cell_type": "code",
   "execution_count": 182,
   "metadata": {},
   "outputs": [],
   "source": [
    "#%# Do matching \n",
    "\n",
    "idx, d2d, d3d = match(cut_elais_bcg,'BCG-RA','BCG-Dec',cut_elais_cat,'rabcg','decbcg')\n",
    "idx_cut = limit(idx,d2d,100)\n",
    "\n",
    "idxl,idxs, d2d, d3d = search_around(cut_elais_bcg,'BCG-RA','BCG-Dec',cut_elais_cat,'rabcg','decbcg')"
   ]
  },
  {
   "cell_type": "code",
   "execution_count": 183,
   "metadata": {},
   "outputs": [
    {
     "name": "stdout",
     "output_type": "stream",
     "text": [
      "[  1   2   3   7   8  10  12  14  14  15  18  20  21  22  25  27  29  30\n",
      "  31  32  35  38  39  41  42  43  44  45  47  48  49  51  52  53  56  57\n",
      "  58  60  62  65  67  69  70  71  72  73  74  75  76  77  78  79  80  81\n",
      "  82  83  85  86  87  89  90  91  92  94  95  99 100 101 102 103 105 106\n",
      " 109 110 111 112 113 114 115 119 120 121 122 123 124 125 127 128 129 130\n",
      " 130 131 132 134 135 137 140 141 141 147 150 155 155 157 163 165 166 169\n",
      " 174 185 186 188 193 194 196 199 201 203 216 216 218 220 222 227 229 229\n",
      " 230 234 235 236 236 236]\n",
      "[  0   1   1   2   3   4   4   5   6   6   7   8   9  10  11  11  12  13\n",
      "  13  14  14  15  15  16  16  17  18  19  19  20  20  21  22  23  24  24\n",
      "  25  26  26  27  28  29  30  30  31  32  33  34  34  35  36  37  38  39\n",
      "  40  41  41  42  42  43  44  45  45  46  47  48  49  50  51  52  53  54\n",
      "  55  56  57  58  59  59  60  61  62  62  63  64  65  66  67  68  69  70\n",
      "  71  72  73  74  75  75  76  76  77  78  78  79  80  81  82  83  84  84\n",
      "  85  86  87  88  89  90  91  91  91  92  93  93  94  95  96  96  97  98\n",
      "  99 100 101 102 103 104 104 104 105 105 106 107 107 108 109 110 111 111\n",
      " 112 112 113 114 115 116 116 117 117 117 118 118 118 119 120 121 121 122\n",
      " 123 124 125 126 126 127 128 129 129 130 130 131 132 134 135 135 136 137\n",
      " 137 140 141 141 142 142 143 143 145 145 147 148 150 152 153 154 155 155\n",
      " 156 157 158 158 159 161 162 163 164 165 166 166 168 169 172 173 173 174\n",
      " 175 175 176 180 181 182 183 184 185 186 188 189 189 190 191 192 193 194\n",
      " 196 197 198 199 201 202 203 205 206 207 209 209 211 211 212 214 214 215\n",
      " 216 216 217 218 218 218 219 219 219 220 220 222 223 223 224 225 226 227\n",
      " 229 229 230 231 234 235 235 236 236 236]\n"
     ]
    }
   ],
   "source": [
    "print(np.sort(idx))\n",
    "print(idxc)"
   ]
  },
  {
   "cell_type": "markdown",
   "metadata": {},
   "source": [
    "### Explore the XMM catalogs"
   ]
  },
  {
   "cell_type": "code",
   "execution_count": 185,
   "metadata": {},
   "outputs": [],
   "source": [
    "#%# Do matching \n",
    "\n",
    "idx, d2d, d3d = match(cut_xmm_bcg,'BCG_RA','BCG_Dec',cut_xmm_cat,'rabcg','decbcg')\n",
    "idx_cut = limit(idx,d2d,100)\n",
    "\n",
    "idxl,idxs, d2d, d3d = search_around(cut_xmm_bcg,'BCG_RA','BCG_Dec',cut_xmm_cat,'rabcg','decbcg')"
   ]
  },
  {
   "cell_type": "code",
   "execution_count": 175,
   "metadata": {},
   "outputs": [
    {
     "name": "stdout",
     "output_type": "stream",
     "text": [
      "[  0   1   2   3   4   5   7   8   9  10  11  12  13  14  15  16  17  18\n",
      "  19  20  21  22  23  24  25  26  27  28  29  30  31  32  33  34  35  36\n",
      "  36  37  38  39  40  41  42  43  44  45  46  47  48  49  50  51  52  53\n",
      "  54  55  56  57  58  59  60  61  62  63  64  65  66  67  68  69  69  70\n",
      "  71  72  73  74  75  76  77  78  79  80  81  82  83  84  85  86  87  88\n",
      "  89  91  92  93  94  95  96  97  98  99 100 101 102 103 104 105 106 107\n",
      " 108 109 110 111 112 113 114 115 116 117 118 119 120 121 122 123 124 125\n",
      " 126]\n",
      "[  0   1   2   4   4   5   7   8   9  10  11  12  13  14  15  16  17  18\n",
      "  19  20  21  22  23  24  25  26  26  27  28  29  30  31  32  33  34  35\n",
      "  36  36  37  38  39  40  41  42  43  44  45  46  47  48  49  50  51  52\n",
      "  53  54  55  56  57  58  59  60  61  62  63  64  65  66  67  68  69  69\n",
      "  70  71  72  73  74  75  77  78  79  80  81  82  83  84  85  86  87  88\n",
      "  89  90  90  91  92  92  93  94  95  96  97  98  99 100 101 102 102 103\n",
      " 104 105 106 107 108 109 110 111 112 113 114 115 115 116 117 118 119 120\n",
      " 121 122 122 123 124 125 126]\n"
     ]
    }
   ],
   "source": [
    "print(np.sort(idx))\n",
    "print(idxc)"
   ]
  },
  {
   "cell_type": "code",
   "execution_count": 190,
   "metadata": {},
   "outputs": [
    {
     "data": {
      "text/plain": [
       "(array([123.,   4.,   0.,   0.,   1.,   1.,   2.,   0.,   0.,   2.]),\n",
       " array([0.        , 0.00262889, 0.00525777, 0.00788666, 0.01051555,\n",
       "        0.01314443, 0.01577332, 0.01840221, 0.0210311 , 0.02365998,\n",
       "        0.02628887]),\n",
       " <a list of 10 Patch objects>)"
      ]
     },
     "execution_count": 190,
     "metadata": {},
     "output_type": "execute_result"
    },
    {
     "data": {
      "image/png": "[encoded data removed]",
      "text/plain": [
       "<Figure size 432x288 with 1 Axes>"
      ]
     },
     "metadata": {
      "needs_background": "light"
     },
     "output_type": "display_data"
    }
   ],
   "source": []
  },
  {
   "cell_type": "code",
   "execution_count": null,
   "metadata": {},
   "outputs": [],
   "source": []
  }
 ],
 "metadata": {
  "kernelspec": {
   "display_name": "Python 3",
   "language": "python",
   "name": "python3"
  },
  "language_info": {
   "codemirror_mode": {
    "name": "ipython",
    "version": 3
   },
   "file_extension": ".py",
   "mimetype": "text/x-python",
   "name": "python",
   "nbconvert_exporter": "python",
   "pygments_lexer": "ipython3",
   "version": "3.8.3"
  }
 },
 "nbformat": 4,
 "nbformat_minor": 4
}
